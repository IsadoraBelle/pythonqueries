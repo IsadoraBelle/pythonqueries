{
 "cells": [
  {
   "cell_type": "markdown",
   "id": "4a71c5e7",
   "metadata": {},
   "source": [
    "01. Importing libraries"
   ]
  },
  {
   "cell_type": "code",
   "execution_count": 73,
   "id": "a60d9603",
   "metadata": {},
   "outputs": [],
   "source": [
    "# Import libraries\n",
    "import pandas as pd\n",
    "import numpy as np\n",
    "import os"
   ]
  },
  {
   "cell_type": "markdown",
   "id": "5e764fb3",
   "metadata": {},
   "source": [
    "Working with Python data types "
   ]
  },
  {
   "cell_type": "code",
   "execution_count": 74,
   "id": "67ae9bc9",
   "metadata": {},
   "outputs": [],
   "source": [
    "x = 49"
   ]
  },
  {
   "cell_type": "code",
   "execution_count": 75,
   "id": "c431b099",
   "metadata": {},
   "outputs": [],
   "source": [
    "y = 51"
   ]
  },
  {
   "cell_type": "code",
   "execution_count": 76,
   "id": "6da3201f",
   "metadata": {},
   "outputs": [],
   "source": [
    "a = 2"
   ]
  },
  {
   "cell_type": "code",
   "execution_count": 77,
   "id": "6c73c0f8",
   "metadata": {},
   "outputs": [],
   "source": [
    "b = 50"
   ]
  },
  {
   "cell_type": "code",
   "execution_count": 78,
   "id": "ee6251d8",
   "metadata": {},
   "outputs": [],
   "source": [
    "c = 200"
   ]
  },
  {
   "cell_type": "code",
   "execution_count": 79,
   "id": "c88d41f2",
   "metadata": {},
   "outputs": [],
   "source": [
    "d = 100"
   ]
  },
  {
   "cell_type": "code",
   "execution_count": 80,
   "id": "df8ed503",
   "metadata": {},
   "outputs": [
    {
     "data": {
      "text/plain": [
       "100"
      ]
     },
     "execution_count": 80,
     "metadata": {},
     "output_type": "execute_result"
    }
   ],
   "source": [
    "x + y"
   ]
  },
  {
   "cell_type": "code",
   "execution_count": 81,
   "id": "4d3071ee",
   "metadata": {},
   "outputs": [
    {
     "data": {
      "text/plain": [
       "100"
      ]
     },
     "execution_count": 81,
     "metadata": {},
     "output_type": "execute_result"
    }
   ],
   "source": [
    "a * b"
   ]
  },
  {
   "cell_type": "code",
   "execution_count": 82,
   "id": "519a38df",
   "metadata": {},
   "outputs": [
    {
     "data": {
      "text/plain": [
       "100"
      ]
     },
     "execution_count": 82,
     "metadata": {},
     "output_type": "execute_result"
    }
   ],
   "source": [
    "c - d"
   ]
  },
  {
   "cell_type": "code",
   "execution_count": 83,
   "id": "b60169fa",
   "metadata": {},
   "outputs": [],
   "source": [
    "e = 9.58"
   ]
  },
  {
   "cell_type": "code",
   "execution_count": 84,
   "id": "9bfb6215",
   "metadata": {},
   "outputs": [],
   "source": [
    "f = 2.34"
   ]
  },
  {
   "cell_type": "code",
   "execution_count": 85,
   "id": "a2a8adab",
   "metadata": {},
   "outputs": [
    {
     "data": {
      "text/plain": [
       "4.094017094017095"
      ]
     },
     "execution_count": 85,
     "metadata": {},
     "output_type": "execute_result"
    }
   ],
   "source": [
    "e / f"
   ]
  },
  {
   "cell_type": "code",
   "execution_count": 86,
   "id": "5aff6fca",
   "metadata": {},
   "outputs": [],
   "source": [
    "f = 'The '"
   ]
  },
  {
   "cell_type": "code",
   "execution_count": 87,
   "id": "e8f5b865",
   "metadata": {},
   "outputs": [],
   "source": [
    "g = 'quick ' "
   ]
  },
  {
   "cell_type": "code",
   "execution_count": 88,
   "id": "a543101b",
   "metadata": {},
   "outputs": [],
   "source": [
    "h = 'brown '"
   ]
  },
  {
   "cell_type": "code",
   "execution_count": 89,
   "id": "04d8cb0b",
   "metadata": {},
   "outputs": [],
   "source": [
    "i = 'fox '"
   ]
  },
  {
   "cell_type": "code",
   "execution_count": 90,
   "id": "daf52e6c",
   "metadata": {},
   "outputs": [],
   "source": [
    "j = '.'"
   ]
  },
  {
   "cell_type": "code",
   "execution_count": 91,
   "id": "7d039890",
   "metadata": {},
   "outputs": [
    {
     "data": {
      "text/plain": [
       "'The quick brown fox .'"
      ]
     },
     "execution_count": 91,
     "metadata": {},
     "output_type": "execute_result"
    }
   ],
   "source": [
    "f + g + h + i + j"
   ]
  },
  {
   "cell_type": "code",
   "execution_count": 92,
   "id": "0ede74a2",
   "metadata": {},
   "outputs": [],
   "source": [
    "k = 'was '"
   ]
  },
  {
   "cell_type": "code",
   "execution_count": 93,
   "id": "3dabfcbe",
   "metadata": {},
   "outputs": [
    {
     "data": {
      "text/plain": [
       "'The brown fox was quick .'"
      ]
     },
     "execution_count": 93,
     "metadata": {},
     "output_type": "execute_result"
    }
   ],
   "source": [
    "f + h + i + k + g + j"
   ]
  }
 ],
 "metadata": {
  "kernelspec": {
   "display_name": "Python 3 (ipykernel)",
   "language": "python",
   "name": "python3"
  },
  "language_info": {
   "codemirror_mode": {
    "name": "ipython",
    "version": 3
   },
   "file_extension": ".py",
   "mimetype": "text/x-python",
   "name": "python",
   "nbconvert_exporter": "python",
   "pygments_lexer": "ipython3",
   "version": "3.9.13"
  }
 },
 "nbformat": 4,
 "nbformat_minor": 5
}
